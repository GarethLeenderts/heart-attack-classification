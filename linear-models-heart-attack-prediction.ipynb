{
 "cells": [
  {
   "cell_type": "code",
   "execution_count": 1,
   "id": "reverse-mouse",
   "metadata": {
    "_cell_guid": "b1076dfc-b9ad-4769-8c92-a6c4dae69d19",
    "_uuid": "8f2839f25d086af736a60e9eeb907d3b93b6e0e5",
    "execution": {
     "iopub.execute_input": "2021-05-27T08:03:56.507244Z",
     "iopub.status.busy": "2021-05-27T08:03:56.506517Z",
     "iopub.status.idle": "2021-05-27T08:03:56.525458Z",
     "shell.execute_reply": "2021-05-27T08:03:56.524626Z",
     "shell.execute_reply.started": "2021-05-27T07:33:19.841764Z"
    },
    "papermill": {
     "duration": 0.050646,
     "end_time": "2021-05-27T08:03:56.525633",
     "exception": false,
     "start_time": "2021-05-27T08:03:56.474987",
     "status": "completed"
    },
    "tags": []
   },
   "outputs": [
    {
     "name": "stdout",
     "output_type": "stream",
     "text": [
      "/kaggle/input/heart-attack-analysis-prediction-dataset/o2Saturation.csv\n",
      "/kaggle/input/heart-attack-analysis-prediction-dataset/heart.csv\n",
      "/kaggle/input/heart-attack-engineered-dataset-1/heart_attack_engineered_dataset_1.csv\n"
     ]
    }
   ],
   "source": [
    "# This Python 3 environment comes with many helpful analytics libraries installed\n",
    "# It is defined by the kaggle/python Docker image: https://github.com/kaggle/docker-python\n",
    "# For example, here's several helpful packages to load\n",
    "\n",
    "import numpy as np # linear algebra\n",
    "import pandas as pd # data processing, CSV file I/O (e.g. pd.read_csv)\n",
    "\n",
    "# Input data files are available in the read-only \"../input/\" directory\n",
    "# For example, running this (by clicking run or pressing Shift+Enter) will list all files under the input directory\n",
    "\n",
    "import os\n",
    "for dirname, _, filenames in os.walk('/kaggle/input'):\n",
    "    for filename in filenames:\n",
    "        print(os.path.join(dirname, filename))\n",
    "\n",
    "# You can write up to 20GB to the current directory (/kaggle/working/) that gets preserved as output when you create a version using \"Save & Run All\" \n",
    "# You can also write temporary files to /kaggle/temp/, but they won't be saved outside of the current session"
   ]
  },
  {
   "cell_type": "code",
   "execution_count": 2,
   "id": "employed-dating",
   "metadata": {
    "execution": {
     "iopub.execute_input": "2021-05-27T08:03:56.569877Z",
     "iopub.status.busy": "2021-05-27T08:03:56.568947Z",
     "iopub.status.idle": "2021-05-27T08:03:57.494042Z",
     "shell.execute_reply": "2021-05-27T08:03:57.494684Z",
     "shell.execute_reply.started": "2021-05-27T07:33:19.870552Z"
    },
    "papermill": {
     "duration": 0.949482,
     "end_time": "2021-05-27T08:03:57.494896",
     "exception": false,
     "start_time": "2021-05-27T08:03:56.545414",
     "status": "completed"
    },
    "tags": []
   },
   "outputs": [],
   "source": [
    "import seaborn as sns\n",
    "import matplotlib.pyplot as plt"
   ]
  },
  {
   "cell_type": "markdown",
   "id": "acceptable-custom",
   "metadata": {
    "papermill": {
     "duration": 0.019455,
     "end_time": "2021-05-27T08:03:57.534111",
     "exception": false,
     "start_time": "2021-05-27T08:03:57.514656",
     "status": "completed"
    },
    "tags": []
   },
   "source": [
    "# Linear Models"
   ]
  },
  {
   "cell_type": "markdown",
   "id": "attended-court",
   "metadata": {
    "papermill": {
     "duration": 0.019387,
     "end_time": "2021-05-27T08:03:57.573444",
     "exception": false,
     "start_time": "2021-05-27T08:03:57.554057",
     "status": "completed"
    },
    "tags": []
   },
   "source": [
    "## Prepare Data"
   ]
  },
  {
   "cell_type": "code",
   "execution_count": 3,
   "id": "twelve-track",
   "metadata": {
    "execution": {
     "iopub.execute_input": "2021-05-27T08:03:57.622880Z",
     "iopub.status.busy": "2021-05-27T08:03:57.622104Z",
     "iopub.status.idle": "2021-05-27T08:03:57.658766Z",
     "shell.execute_reply": "2021-05-27T08:03:57.659350Z",
     "shell.execute_reply.started": "2021-05-27T07:33:20.793427Z"
    },
    "papermill": {
     "duration": 0.065961,
     "end_time": "2021-05-27T08:03:57.659587",
     "exception": false,
     "start_time": "2021-05-27T08:03:57.593626",
     "status": "completed"
    },
    "tags": []
   },
   "outputs": [],
   "source": [
    "heart_data = pd.read_csv(\"../input/heart-attack-engineered-dataset-1/heart_attack_engineered_dataset_1.csv\")"
   ]
  },
  {
   "cell_type": "code",
   "execution_count": 4,
   "id": "regulated-petite",
   "metadata": {
    "execution": {
     "iopub.execute_input": "2021-05-27T08:03:57.702374Z",
     "iopub.status.busy": "2021-05-27T08:03:57.701643Z",
     "iopub.status.idle": "2021-05-27T08:03:57.927992Z",
     "shell.execute_reply": "2021-05-27T08:03:57.928554Z",
     "shell.execute_reply.started": "2021-05-27T07:33:20.835269Z"
    },
    "papermill": {
     "duration": 0.249494,
     "end_time": "2021-05-27T08:03:57.928807",
     "exception": false,
     "start_time": "2021-05-27T08:03:57.679313",
     "status": "completed"
    },
    "tags": []
   },
   "outputs": [],
   "source": [
    "from sklearn.model_selection import train_test_split\n",
    "\n",
    "X_train, X_test, y_train, y_test = train_test_split(heart_data.drop(columns=['output']),\n",
    "                                                    heart_data['output'], \n",
    "                                                    test_size=0.5, \n",
    "                                                    random_state=125)"
   ]
  },
  {
   "cell_type": "code",
   "execution_count": 5,
   "id": "sticky-designation",
   "metadata": {
    "execution": {
     "iopub.execute_input": "2021-05-27T08:03:57.971919Z",
     "iopub.status.busy": "2021-05-27T08:03:57.971187Z",
     "iopub.status.idle": "2021-05-27T08:03:57.975928Z",
     "shell.execute_reply": "2021-05-27T08:03:57.975354Z",
     "shell.execute_reply.started": "2021-05-27T07:33:21.080468Z"
    },
    "papermill": {
     "duration": 0.027786,
     "end_time": "2021-05-27T08:03:57.976096",
     "exception": false,
     "start_time": "2021-05-27T08:03:57.948310",
     "status": "completed"
    },
    "tags": []
   },
   "outputs": [],
   "source": [
    "# correlation_matrix = X_train.corr()\n",
    "\n",
    "# correlation_matrix.head()"
   ]
  },
  {
   "cell_type": "code",
   "execution_count": 6,
   "id": "chronic-patent",
   "metadata": {
    "execution": {
     "iopub.execute_input": "2021-05-27T08:03:58.021744Z",
     "iopub.status.busy": "2021-05-27T08:03:58.020822Z",
     "iopub.status.idle": "2021-05-27T08:03:58.024500Z",
     "shell.execute_reply": "2021-05-27T08:03:58.023845Z",
     "shell.execute_reply.started": "2021-05-27T07:33:21.127452Z"
    },
    "papermill": {
     "duration": 0.028697,
     "end_time": "2021-05-27T08:03:58.024694",
     "exception": false,
     "start_time": "2021-05-27T08:03:57.995997",
     "status": "completed"
    },
    "tags": []
   },
   "outputs": [],
   "source": [
    "# corr_columns = correlation_matrix.columns.tolist()"
   ]
  },
  {
   "cell_type": "code",
   "execution_count": 7,
   "id": "another-noise",
   "metadata": {
    "execution": {
     "iopub.execute_input": "2021-05-27T08:03:58.068520Z",
     "iopub.status.busy": "2021-05-27T08:03:58.067483Z",
     "iopub.status.idle": "2021-05-27T08:03:58.070993Z",
     "shell.execute_reply": "2021-05-27T08:03:58.071504Z",
     "shell.execute_reply.started": "2021-05-27T07:33:21.135970Z"
    },
    "papermill": {
     "duration": 0.027248,
     "end_time": "2021-05-27T08:03:58.071726",
     "exception": false,
     "start_time": "2021-05-27T08:03:58.044478",
     "status": "completed"
    },
    "tags": []
   },
   "outputs": [],
   "source": [
    "# plt.figure(figsize=(25,25))\n",
    "# # sns.heatmap(correlation_matrix[(correlation_matrix[corr_columns] < 0.6)  | (correlation_matrix[corr_columns] > -0.6)])\n",
    "\n",
    "# sns.heatmap(correlation_matrix[:25], vmin=-1.0, vmax=1.0, cmap=\"Blues\",annot=True)"
   ]
  },
  {
   "cell_type": "markdown",
   "id": "aggressive-phone",
   "metadata": {
    "papermill": {
     "duration": 0.020079,
     "end_time": "2021-05-27T08:03:58.111205",
     "exception": false,
     "start_time": "2021-05-27T08:03:58.091126",
     "status": "completed"
    },
    "tags": []
   },
   "source": [
    "## Logistic Regression"
   ]
  },
  {
   "cell_type": "markdown",
   "id": "micro-correlation",
   "metadata": {
    "papermill": {
     "duration": 0.019163,
     "end_time": "2021-05-27T08:03:58.149986",
     "exception": false,
     "start_time": "2021-05-27T08:03:58.130823",
     "status": "completed"
    },
    "tags": []
   },
   "source": [
    "#### Hyperparameter Optimization"
   ]
  },
  {
   "cell_type": "code",
   "execution_count": 8,
   "id": "professional-flavor",
   "metadata": {
    "execution": {
     "iopub.execute_input": "2021-05-27T08:03:58.193475Z",
     "iopub.status.busy": "2021-05-27T08:03:58.192457Z",
     "iopub.status.idle": "2021-05-27T08:03:58.299563Z",
     "shell.execute_reply": "2021-05-27T08:03:58.298932Z",
     "shell.execute_reply.started": "2021-05-27T07:36:20.681076Z"
    },
    "papermill": {
     "duration": 0.130048,
     "end_time": "2021-05-27T08:03:58.299748",
     "exception": false,
     "start_time": "2021-05-27T08:03:58.169700",
     "status": "completed"
    },
    "tags": []
   },
   "outputs": [],
   "source": [
    "from sklearn.model_selection import GridSearchCV, RandomizedSearchCV\n",
    "from sklearn.linear_model import LogisticRegression"
   ]
  },
  {
   "cell_type": "code",
   "execution_count": 9,
   "id": "destroyed-librarian",
   "metadata": {
    "execution": {
     "iopub.execute_input": "2021-05-27T08:03:58.343142Z",
     "iopub.status.busy": "2021-05-27T08:03:58.342521Z",
     "iopub.status.idle": "2021-05-27T08:03:58.345637Z",
     "shell.execute_reply": "2021-05-27T08:03:58.345111Z",
     "shell.execute_reply.started": "2021-05-27T07:54:10.910523Z"
    },
    "papermill": {
     "duration": 0.026329,
     "end_time": "2021-05-27T08:03:58.345780",
     "exception": false,
     "start_time": "2021-05-27T08:03:58.319451",
     "status": "completed"
    },
    "tags": []
   },
   "outputs": [],
   "source": [
    "# model = LogisticRegression(max_iter=200)\n",
    "\n",
    "# param_grid = {\"solver\": ['newton-cg', 'lbfgs', 'liblinear', 'sag', 'saga'],\n",
    "#               \"penalty\" : ['l1','l2','elasticnet', 'none'], \n",
    "#               \"C\" : [100, 10, 1.0, 0.1, 0.01] }"
   ]
  },
  {
   "cell_type": "code",
   "execution_count": 10,
   "id": "incomplete-documentary",
   "metadata": {
    "execution": {
     "iopub.execute_input": "2021-05-27T08:03:58.388924Z",
     "iopub.status.busy": "2021-05-27T08:03:58.388247Z",
     "iopub.status.idle": "2021-05-27T08:03:58.391757Z",
     "shell.execute_reply": "2021-05-27T08:03:58.391243Z",
     "shell.execute_reply.started": "2021-05-27T07:54:10.953209Z"
    },
    "papermill": {
     "duration": 0.026957,
     "end_time": "2021-05-27T08:03:58.391905",
     "exception": false,
     "start_time": "2021-05-27T08:03:58.364948",
     "status": "completed"
    },
    "tags": []
   },
   "outputs": [],
   "source": [
    "# grid = GridSearchCV(model, param_grid, scoring='neg_mean_squared_log_error', cv=10)\n",
    "# grid = GridSearchCV(model, param_grid, scoring='roc_auc', cv=10)\n",
    "\n",
    "# # random_search = RandomizedSearchCV(model, param_grid, scoring='neg_mean_squared_log_error', cv=10)"
   ]
  },
  {
   "cell_type": "code",
   "execution_count": 11,
   "id": "incredible-disposition",
   "metadata": {
    "execution": {
     "iopub.execute_input": "2021-05-27T08:03:58.435049Z",
     "iopub.status.busy": "2021-05-27T08:03:58.434378Z",
     "iopub.status.idle": "2021-05-27T08:03:58.436874Z",
     "shell.execute_reply": "2021-05-27T08:03:58.436255Z",
     "shell.execute_reply.started": "2021-05-27T08:02:13.106901Z"
    },
    "papermill": {
     "duration": 0.025701,
     "end_time": "2021-05-27T08:03:58.437016",
     "exception": false,
     "start_time": "2021-05-27T08:03:58.411315",
     "status": "completed"
    },
    "tags": []
   },
   "outputs": [],
   "source": [
    "# %%time\n",
    "# # random_search.fit(X_train, y_train)\n",
    "# grid.fit(X_train, y_train)"
   ]
  },
  {
   "cell_type": "code",
   "execution_count": 12,
   "id": "official-bidding",
   "metadata": {
    "execution": {
     "iopub.execute_input": "2021-05-27T08:03:58.479668Z",
     "iopub.status.busy": "2021-05-27T08:03:58.478943Z",
     "iopub.status.idle": "2021-05-27T08:03:58.482784Z",
     "shell.execute_reply": "2021-05-27T08:03:58.482137Z",
     "shell.execute_reply.started": "2021-05-27T07:55:18.532304Z"
    },
    "papermill": {
     "duration": 0.026313,
     "end_time": "2021-05-27T08:03:58.482947",
     "exception": false,
     "start_time": "2021-05-27T08:03:58.456634",
     "status": "completed"
    },
    "tags": []
   },
   "outputs": [],
   "source": [
    "# random_search.best_params_\n",
    "# grid.best_params_"
   ]
  },
  {
   "cell_type": "markdown",
   "id": "increased-mainland",
   "metadata": {
    "papermill": {
     "duration": 0.018881,
     "end_time": "2021-05-27T08:03:58.521136",
     "exception": false,
     "start_time": "2021-05-27T08:03:58.502255",
     "status": "completed"
    },
    "tags": []
   },
   "source": [
    "**End of hyperparameter optimization**\n",
    "\n",
    "grid search took 67s to run\n",
    "\n",
    "Best Parameters: {'C': 1.0, 'penalty': 'l2', 'solver': 'liblinear'}\n",
    "\n",
    "Now build model with best parameters."
   ]
  },
  {
   "cell_type": "code",
   "execution_count": 13,
   "id": "parliamentary-european",
   "metadata": {
    "execution": {
     "iopub.execute_input": "2021-05-27T08:03:58.562727Z",
     "iopub.status.busy": "2021-05-27T08:03:58.562055Z",
     "iopub.status.idle": "2021-05-27T08:03:58.566868Z",
     "shell.execute_reply": "2021-05-27T08:03:58.566322Z",
     "shell.execute_reply.started": "2021-05-27T08:01:30.733971Z"
    },
    "papermill": {
     "duration": 0.026569,
     "end_time": "2021-05-27T08:03:58.567005",
     "exception": false,
     "start_time": "2021-05-27T08:03:58.540436",
     "status": "completed"
    },
    "tags": []
   },
   "outputs": [],
   "source": [
    "# found with scoring='neg_mean_squared_log_error' in grid_search\n",
    "model = LogisticRegression(max_iter=200, C=1.0, penalty='l2' ,solver='liblinear')\n",
    "\n",
    "# found with scoring='roc_auc' in grid_search (worse than above model)\n",
    "# model = LogisticRegression(max_iter=200, C=10, penalty='l2' ,solver='liblinear')"
   ]
  },
  {
   "cell_type": "code",
   "execution_count": 14,
   "id": "italian-ordinance",
   "metadata": {
    "execution": {
     "iopub.execute_input": "2021-05-27T08:03:58.616158Z",
     "iopub.status.busy": "2021-05-27T08:03:58.615075Z",
     "iopub.status.idle": "2021-05-27T08:03:58.628676Z",
     "shell.execute_reply": "2021-05-27T08:03:58.629201Z",
     "shell.execute_reply.started": "2021-05-27T08:01:30.827030Z"
    },
    "papermill": {
     "duration": 0.043182,
     "end_time": "2021-05-27T08:03:58.629397",
     "exception": false,
     "start_time": "2021-05-27T08:03:58.586215",
     "status": "completed"
    },
    "tags": []
   },
   "outputs": [
    {
     "data": {
      "text/plain": [
       "LogisticRegression(max_iter=200, solver='liblinear')"
      ]
     },
     "execution_count": 14,
     "metadata": {},
     "output_type": "execute_result"
    }
   ],
   "source": [
    "model.fit(X_train, y_train)"
   ]
  },
  {
   "cell_type": "code",
   "execution_count": 15,
   "id": "clean-piece",
   "metadata": {
    "execution": {
     "iopub.execute_input": "2021-05-27T08:03:58.671972Z",
     "iopub.status.busy": "2021-05-27T08:03:58.670953Z",
     "iopub.status.idle": "2021-05-27T08:03:58.681055Z",
     "shell.execute_reply": "2021-05-27T08:03:58.681881Z",
     "shell.execute_reply.started": "2021-05-27T08:01:30.872769Z"
    },
    "papermill": {
     "duration": 0.033345,
     "end_time": "2021-05-27T08:03:58.682162",
     "exception": false,
     "start_time": "2021-05-27T08:03:58.648817",
     "status": "completed"
    },
    "tags": []
   },
   "outputs": [],
   "source": [
    "predictions = model.predict(X_test)"
   ]
  },
  {
   "cell_type": "markdown",
   "id": "tribal-syndrome",
   "metadata": {
    "papermill": {
     "duration": 0.034006,
     "end_time": "2021-05-27T08:03:58.750501",
     "exception": false,
     "start_time": "2021-05-27T08:03:58.716495",
     "status": "completed"
    },
    "tags": []
   },
   "source": [
    "### Analysis of Performance"
   ]
  },
  {
   "cell_type": "code",
   "execution_count": 16,
   "id": "electoral-digest",
   "metadata": {
    "execution": {
     "iopub.execute_input": "2021-05-27T08:03:58.815521Z",
     "iopub.status.busy": "2021-05-27T08:03:58.814486Z",
     "iopub.status.idle": "2021-05-27T08:03:58.816935Z",
     "shell.execute_reply": "2021-05-27T08:03:58.817508Z",
     "shell.execute_reply.started": "2021-05-27T08:01:30.957049Z"
    },
    "papermill": {
     "duration": 0.032846,
     "end_time": "2021-05-27T08:03:58.817685",
     "exception": false,
     "start_time": "2021-05-27T08:03:58.784839",
     "status": "completed"
    },
    "tags": []
   },
   "outputs": [],
   "source": [
    "import matplotlib.pyplot as plt\n",
    "import seaborn as sns\n",
    "\n",
    "from sklearn.metrics import confusion_matrix, classification_report, plot_confusion_matrix"
   ]
  },
  {
   "cell_type": "code",
   "execution_count": 17,
   "id": "transparent-allen",
   "metadata": {
    "execution": {
     "iopub.execute_input": "2021-05-27T08:03:58.862701Z",
     "iopub.status.busy": "2021-05-27T08:03:58.861691Z",
     "iopub.status.idle": "2021-05-27T08:03:58.872193Z",
     "shell.execute_reply": "2021-05-27T08:03:58.873166Z",
     "shell.execute_reply.started": "2021-05-27T08:01:30.995082Z"
    },
    "papermill": {
     "duration": 0.036149,
     "end_time": "2021-05-27T08:03:58.873434",
     "exception": false,
     "start_time": "2021-05-27T08:03:58.837285",
     "status": "completed"
    },
    "tags": []
   },
   "outputs": [
    {
     "name": "stdout",
     "output_type": "stream",
     "text": [
      "              precision    recall  f1-score   support\n",
      "\n",
      "           0       0.80      0.71      0.75        72\n",
      "           1       0.76      0.84      0.80        80\n",
      "\n",
      "    accuracy                           0.78       152\n",
      "   macro avg       0.78      0.77      0.77       152\n",
      "weighted avg       0.78      0.78      0.78       152\n",
      "\n"
     ]
    }
   ],
   "source": [
    "print(classification_report(y_test, predictions))"
   ]
  },
  {
   "cell_type": "code",
   "execution_count": 18,
   "id": "twenty-builder",
   "metadata": {
    "execution": {
     "iopub.execute_input": "2021-05-27T08:03:58.921914Z",
     "iopub.status.busy": "2021-05-27T08:03:58.921139Z",
     "iopub.status.idle": "2021-05-27T08:03:58.923259Z",
     "shell.execute_reply": "2021-05-27T08:03:58.923749Z",
     "shell.execute_reply.started": "2021-05-27T08:01:31.071396Z"
    },
    "papermill": {
     "duration": 0.030123,
     "end_time": "2021-05-27T08:03:58.923930",
     "exception": false,
     "start_time": "2021-05-27T08:03:58.893807",
     "status": "completed"
    },
    "tags": []
   },
   "outputs": [],
   "source": [
    "conf_matrix = confusion_matrix(y_test, predictions)"
   ]
  },
  {
   "cell_type": "code",
   "execution_count": 19,
   "id": "advance-corpus",
   "metadata": {
    "execution": {
     "iopub.execute_input": "2021-05-27T08:03:58.968265Z",
     "iopub.status.busy": "2021-05-27T08:03:58.967528Z",
     "iopub.status.idle": "2021-05-27T08:03:59.241901Z",
     "shell.execute_reply": "2021-05-27T08:03:59.240797Z",
     "shell.execute_reply.started": "2021-05-27T08:01:31.112362Z"
    },
    "papermill": {
     "duration": 0.298189,
     "end_time": "2021-05-27T08:03:59.242063",
     "exception": false,
     "start_time": "2021-05-27T08:03:58.943874",
     "status": "completed"
    },
    "tags": []
   },
   "outputs": [
    {
     "data": {
      "text/plain": [
       "Text(0.5, 1.0, 'Confusion Matrix for Logistic Regression Prediction')"
      ]
     },
     "execution_count": 19,
     "metadata": {},
     "output_type": "execute_result"
    },
    {
     "data": {
      "image/png": "[encoded data removed]",
      "text/plain": [
       "<Figure size 1008x504 with 2 Axes>"
      ]
     },
     "metadata": {
      "needs_background": "light"
     },
     "output_type": "display_data"
    }
   ],
   "source": [
    "plt.figure(figsize=(14,7))\n",
    "sns.heatmap(conf_matrix, annot=True, cbar=True, cmap='Blues')\n",
    "plt.xlabel(\"Predicted Label\")\n",
    "plt.ylabel(\"True Label\")\n",
    "plt.title(\"Confusion Matrix for Logistic Regression Prediction\")"
   ]
  }
 ],
 "metadata": {
  "kernelspec": {
   "display_name": "Python 3",
   "language": "python",
   "name": "python3"
  },
  "language_info": {
   "codemirror_mode": {
    "name": "ipython",
    "version": 3
   },
   "file_extension": ".py",
   "mimetype": "text/x-python",
   "name": "python",
   "nbconvert_exporter": "python",
   "pygments_lexer": "ipython3",
   "version": "3.7.10"
  },
  "papermill": {
   "default_parameters": {},
   "duration": 12.948522,
   "end_time": "2021-05-27T08:04:00.599965",
   "environment_variables": {},
   "exception": null,
   "input_path": "__notebook__.ipynb",
   "output_path": "__notebook__.ipynb",
   "parameters": {},
   "start_time": "2021-05-27T08:03:47.651443",
   "version": "2.3.3"
  }
 },
 "nbformat": 4,
 "nbformat_minor": 5
}
