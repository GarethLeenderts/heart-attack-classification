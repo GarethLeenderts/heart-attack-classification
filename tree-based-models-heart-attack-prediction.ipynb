{
 "cells": [
  {
   "cell_type": "code",
   "execution_count": 1,
   "id": "federal-charlotte",
   "metadata": {
    "_cell_guid": "b1076dfc-b9ad-4769-8c92-a6c4dae69d19",
    "_uuid": "8f2839f25d086af736a60e9eeb907d3b93b6e0e5",
    "execution": {
     "iopub.execute_input": "2021-05-26T13:31:24.883520Z",
     "iopub.status.busy": "2021-05-26T13:31:24.882403Z",
     "iopub.status.idle": "2021-05-26T13:31:24.906015Z",
     "shell.execute_reply": "2021-05-26T13:31:24.905072Z",
     "shell.execute_reply.started": "2021-05-26T12:45:24.854784Z"
    },
    "papermill": {
     "duration": 0.071087,
     "end_time": "2021-05-26T13:31:24.906246",
     "exception": false,
     "start_time": "2021-05-26T13:31:24.835159",
     "status": "completed"
    },
    "tags": []
   },
   "outputs": [
    {
     "name": "stdout",
     "output_type": "stream",
     "text": [
      "/kaggle/input/heart-attack-analysis-prediction-dataset/o2Saturation.csv\n",
      "/kaggle/input/heart-attack-analysis-prediction-dataset/heart.csv\n",
      "/kaggle/input/heart-attack-engineered-dataset-1/heart_attack_engineered_dataset_1.csv\n"
     ]
    }
   ],
   "source": [
    "# This Python 3 environment comes with many helpful analytics libraries installed\n",
    "# It is defined by the kaggle/python Docker image: https://github.com/kaggle/docker-python\n",
    "# For example, here's several helpful packages to load\n",
    "\n",
    "import numpy as np # linear algebra\n",
    "import pandas as pd # data processing, CSV file I/O (e.g. pd.read_csv)\n",
    "\n",
    "# Input data files are available in the read-only \"../input/\" directory\n",
    "# For example, running this (by clicking run or pressing Shift+Enter) will list all files under the input directory\n",
    "\n",
    "import os\n",
    "for dirname, _, filenames in os.walk('/kaggle/input'):\n",
    "    for filename in filenames:\n",
    "        print(os.path.join(dirname, filename))\n",
    "\n",
    "# You can write up to 20GB to the current directory (/kaggle/working/) that gets preserved as output when you create a version using \"Save & Run All\" \n",
    "# You can also write temporary files to /kaggle/temp/, but they won't be saved outside of the current session"
   ]
  },
  {
   "cell_type": "markdown",
   "id": "established-divorce",
   "metadata": {
    "papermill": {
     "duration": 0.040765,
     "end_time": "2021-05-26T13:31:24.994765",
     "exception": false,
     "start_time": "2021-05-26T13:31:24.954000",
     "status": "completed"
    },
    "tags": []
   },
   "source": [
    "# Here we will model tree-based models\n",
    "\n",
    "### These include:\n",
    "* Random Forest\n",
    "* XGBoost\n",
    "* Adaboost"
   ]
  },
  {
   "cell_type": "markdown",
   "id": "laden-configuration",
   "metadata": {
    "papermill": {
     "duration": 0.035194,
     "end_time": "2021-05-26T13:31:25.066011",
     "exception": false,
     "start_time": "2021-05-26T13:31:25.030817",
     "status": "completed"
    },
    "tags": []
   },
   "source": [
    "## Prepare Data"
   ]
  },
  {
   "cell_type": "code",
   "execution_count": 2,
   "id": "medieval-disease",
   "metadata": {
    "execution": {
     "iopub.execute_input": "2021-05-26T13:31:25.142958Z",
     "iopub.status.busy": "2021-05-26T13:31:25.142277Z",
     "iopub.status.idle": "2021-05-26T13:31:25.181538Z",
     "shell.execute_reply": "2021-05-26T13:31:25.180991Z",
     "shell.execute_reply.started": "2021-05-26T12:45:24.869563Z"
    },
    "papermill": {
     "duration": 0.07969,
     "end_time": "2021-05-26T13:31:25.181686",
     "exception": false,
     "start_time": "2021-05-26T13:31:25.101996",
     "status": "completed"
    },
    "tags": []
   },
   "outputs": [],
   "source": [
    "heart_data = pd.read_csv(\"../input/heart-attack-engineered-dataset-1/heart_attack_engineered_dataset_1.csv\")"
   ]
  },
  {
   "cell_type": "code",
   "execution_count": 3,
   "id": "sound-jimmy",
   "metadata": {
    "execution": {
     "iopub.execute_input": "2021-05-26T13:31:25.257718Z",
     "iopub.status.busy": "2021-05-26T13:31:25.257022Z",
     "iopub.status.idle": "2021-05-26T13:31:26.317094Z",
     "shell.execute_reply": "2021-05-26T13:31:26.317652Z",
     "shell.execute_reply.started": "2021-05-26T12:45:24.908808Z"
    },
    "papermill": {
     "duration": 1.100119,
     "end_time": "2021-05-26T13:31:26.317832",
     "exception": false,
     "start_time": "2021-05-26T13:31:25.217713",
     "status": "completed"
    },
    "tags": []
   },
   "outputs": [],
   "source": [
    "import sklearn\n",
    "from sklearn.model_selection import train_test_split"
   ]
  },
  {
   "cell_type": "code",
   "execution_count": 4,
   "id": "seventh-worse",
   "metadata": {
    "execution": {
     "iopub.execute_input": "2021-05-26T13:31:26.391971Z",
     "iopub.status.busy": "2021-05-26T13:31:26.391267Z",
     "iopub.status.idle": "2021-05-26T13:31:26.412796Z",
     "shell.execute_reply": "2021-05-26T13:31:26.412204Z",
     "shell.execute_reply.started": "2021-05-26T12:45:24.914746Z"
    },
    "papermill": {
     "duration": 0.059487,
     "end_time": "2021-05-26T13:31:26.412941",
     "exception": false,
     "start_time": "2021-05-26T13:31:26.353454",
     "status": "completed"
    },
    "tags": []
   },
   "outputs": [],
   "source": [
    "# Split data in half, one training set, and one test set\n",
    "X_train, X_test, y_train, y_test = train_test_split(heart_data.drop(columns=['output']),\n",
    "                                                    heart_data['output'], \n",
    "                                                    test_size=0.5, \n",
    "                                                    random_state=125)"
   ]
  },
  {
   "cell_type": "markdown",
   "id": "innovative-stockholm",
   "metadata": {
    "papermill": {
     "duration": 0.035251,
     "end_time": "2021-05-26T13:31:26.483481",
     "exception": false,
     "start_time": "2021-05-26T13:31:26.448230",
     "status": "completed"
    },
    "tags": []
   },
   "source": [
    "## Random Forest"
   ]
  },
  {
   "cell_type": "code",
   "execution_count": 5,
   "id": "imposed-blast",
   "metadata": {
    "execution": {
     "iopub.execute_input": "2021-05-26T13:31:26.558667Z",
     "iopub.status.busy": "2021-05-26T13:31:26.557958Z",
     "iopub.status.idle": "2021-05-26T13:31:26.814497Z",
     "shell.execute_reply": "2021-05-26T13:31:26.815004Z",
     "shell.execute_reply.started": "2021-05-26T12:45:24.935937Z"
    },
    "papermill": {
     "duration": 0.296159,
     "end_time": "2021-05-26T13:31:26.815172",
     "exception": false,
     "start_time": "2021-05-26T13:31:26.519013",
     "status": "completed"
    },
    "tags": []
   },
   "outputs": [],
   "source": [
    "from sklearn.ensemble import RandomForestClassifier\n",
    "\n",
    "from sklearn.model_selection import GridSearchCV, RandomizedSearchCV"
   ]
  },
  {
   "cell_type": "markdown",
   "id": "alone-adoption",
   "metadata": {
    "papermill": {
     "duration": 0.034627,
     "end_time": "2021-05-26T13:31:26.885461",
     "exception": false,
     "start_time": "2021-05-26T13:31:26.850834",
     "status": "completed"
    },
    "tags": []
   },
   "source": [
    "#### Hyperparameter Optimization for Random Forest"
   ]
  },
  {
   "cell_type": "code",
   "execution_count": 6,
   "id": "individual-thing",
   "metadata": {
    "execution": {
     "iopub.execute_input": "2021-05-26T13:31:26.960644Z",
     "iopub.status.busy": "2021-05-26T13:31:26.959964Z",
     "iopub.status.idle": "2021-05-26T13:31:26.962878Z",
     "shell.execute_reply": "2021-05-26T13:31:26.962249Z",
     "shell.execute_reply.started": "2021-05-26T12:45:24.950408Z"
    },
    "papermill": {
     "duration": 0.042499,
     "end_time": "2021-05-26T13:31:26.963017",
     "exception": false,
     "start_time": "2021-05-26T13:31:26.920518",
     "status": "completed"
    },
    "tags": []
   },
   "outputs": [],
   "source": [
    "param_grid = {'max_depth': [10,20,30,40,50],\n",
    "             'n_estimators': [100,200,300,400,500],\n",
    "             'max_leaf_nodes':[5,10,20]}"
   ]
  },
  {
   "cell_type": "code",
   "execution_count": 7,
   "id": "signal-absolute",
   "metadata": {
    "execution": {
     "iopub.execute_input": "2021-05-26T13:31:27.039781Z",
     "iopub.status.busy": "2021-05-26T13:31:27.039115Z",
     "iopub.status.idle": "2021-05-26T13:31:27.042133Z",
     "shell.execute_reply": "2021-05-26T13:31:27.041632Z",
     "shell.execute_reply.started": "2021-05-26T12:45:24.964842Z"
    },
    "papermill": {
     "duration": 0.042486,
     "end_time": "2021-05-26T13:31:27.042291",
     "exception": false,
     "start_time": "2021-05-26T13:31:26.999805",
     "status": "completed"
    },
    "tags": []
   },
   "outputs": [],
   "source": [
    "# model = RandomForestClassifier()\n",
    "# grid = GridSearchCV(model, param_grid, scoring='neg_mean_squared_log_error', cv=10)"
   ]
  },
  {
   "cell_type": "code",
   "execution_count": 8,
   "id": "electric-garage",
   "metadata": {
    "execution": {
     "iopub.execute_input": "2021-05-26T13:31:27.116905Z",
     "iopub.status.busy": "2021-05-26T13:31:27.116210Z",
     "iopub.status.idle": "2021-05-26T13:31:27.119273Z",
     "shell.execute_reply": "2021-05-26T13:31:27.118615Z",
     "shell.execute_reply.started": "2021-05-26T12:45:24.980482Z"
    },
    "papermill": {
     "duration": 0.041944,
     "end_time": "2021-05-26T13:31:27.119432",
     "exception": false,
     "start_time": "2021-05-26T13:31:27.077488",
     "status": "completed"
    },
    "tags": []
   },
   "outputs": [],
   "source": [
    "# %%time\n",
    "# grid.fit(X_train, y_train)"
   ]
  },
  {
   "cell_type": "code",
   "execution_count": 9,
   "id": "adverse-control",
   "metadata": {
    "execution": {
     "iopub.execute_input": "2021-05-26T13:31:27.194535Z",
     "iopub.status.busy": "2021-05-26T13:31:27.193747Z",
     "iopub.status.idle": "2021-05-26T13:31:27.195787Z",
     "shell.execute_reply": "2021-05-26T13:31:27.196298Z",
     "shell.execute_reply.started": "2021-05-26T12:45:24.994277Z"
    },
    "papermill": {
     "duration": 0.041971,
     "end_time": "2021-05-26T13:31:27.196484",
     "exception": false,
     "start_time": "2021-05-26T13:31:27.154513",
     "status": "completed"
    },
    "tags": []
   },
   "outputs": [],
   "source": [
    "# grid.best_params_"
   ]
  },
  {
   "cell_type": "markdown",
   "id": "closed-evaluation",
   "metadata": {
    "papermill": {
     "duration": 0.03478,
     "end_time": "2021-05-26T13:31:27.266341",
     "exception": false,
     "start_time": "2021-05-26T13:31:27.231561",
     "status": "completed"
    },
    "tags": []
   },
   "source": [
    "**End of hyperparameter optimization**\n",
    "\n",
    "*Best Parameters:* {'max_depth': 10, 'max_leaf_nodes': 20, 'n_estimators': 100}\n",
    "\n",
    "Now build model with best parameters."
   ]
  },
  {
   "cell_type": "code",
   "execution_count": 10,
   "id": "ready-worker",
   "metadata": {
    "execution": {
     "iopub.execute_input": "2021-05-26T13:31:27.339171Z",
     "iopub.status.busy": "2021-05-26T13:31:27.338533Z",
     "iopub.status.idle": "2021-05-26T13:31:27.550349Z",
     "shell.execute_reply": "2021-05-26T13:31:27.550833Z",
     "shell.execute_reply.started": "2021-05-26T12:45:25.013062Z"
    },
    "papermill": {
     "duration": 0.249783,
     "end_time": "2021-05-26T13:31:27.551011",
     "exception": false,
     "start_time": "2021-05-26T13:31:27.301228",
     "status": "completed"
    },
    "tags": []
   },
   "outputs": [
    {
     "data": {
      "text/plain": [
       "RandomForestClassifier(max_depth=10, max_leaf_nodes=20)"
      ]
     },
     "execution_count": 10,
     "metadata": {},
     "output_type": "execute_result"
    }
   ],
   "source": [
    "model = RandomForestClassifier(max_depth=10, \n",
    "                               max_leaf_nodes=20,\n",
    "                               n_estimators=100)\n",
    "\n",
    "model.fit(X_train, y_train)"
   ]
  },
  {
   "cell_type": "code",
   "execution_count": 11,
   "id": "headed-terrace",
   "metadata": {
    "execution": {
     "iopub.execute_input": "2021-05-26T13:31:27.630542Z",
     "iopub.status.busy": "2021-05-26T13:31:27.629834Z",
     "iopub.status.idle": "2021-05-26T13:31:27.645828Z",
     "shell.execute_reply": "2021-05-26T13:31:27.645200Z",
     "shell.execute_reply.started": "2021-05-26T12:45:25.270280Z"
    },
    "papermill": {
     "duration": 0.058536,
     "end_time": "2021-05-26T13:31:27.645974",
     "exception": false,
     "start_time": "2021-05-26T13:31:27.587438",
     "status": "completed"
    },
    "tags": []
   },
   "outputs": [],
   "source": [
    "predictions = model.predict(X_test)"
   ]
  },
  {
   "cell_type": "markdown",
   "id": "british-expert",
   "metadata": {
    "papermill": {
     "duration": 0.03525,
     "end_time": "2021-05-26T13:31:27.716671",
     "exception": false,
     "start_time": "2021-05-26T13:31:27.681421",
     "status": "completed"
    },
    "tags": []
   },
   "source": [
    "#### Analysis of Performance for Random Forest\n",
    "\n",
    "* confusion_matrix\n",
    "* classification_report"
   ]
  },
  {
   "cell_type": "code",
   "execution_count": 12,
   "id": "matched-engagement",
   "metadata": {
    "execution": {
     "iopub.execute_input": "2021-05-26T13:31:27.790476Z",
     "iopub.status.busy": "2021-05-26T13:31:27.789742Z",
     "iopub.status.idle": "2021-05-26T13:31:27.793455Z",
     "shell.execute_reply": "2021-05-26T13:31:27.793978Z",
     "shell.execute_reply.started": "2021-05-26T12:45:25.299481Z"
    },
    "papermill": {
     "duration": 0.042048,
     "end_time": "2021-05-26T13:31:27.794141",
     "exception": false,
     "start_time": "2021-05-26T13:31:27.752093",
     "status": "completed"
    },
    "tags": []
   },
   "outputs": [],
   "source": [
    "from sklearn.metrics import confusion_matrix, classification_report, plot_confusion_matrix"
   ]
  },
  {
   "cell_type": "code",
   "execution_count": 13,
   "id": "owned-dutch",
   "metadata": {
    "execution": {
     "iopub.execute_input": "2021-05-26T13:31:27.868543Z",
     "iopub.status.busy": "2021-05-26T13:31:27.867899Z",
     "iopub.status.idle": "2021-05-26T13:31:27.878066Z",
     "shell.execute_reply": "2021-05-26T13:31:27.878676Z",
     "shell.execute_reply.started": "2021-05-26T12:45:25.305573Z"
    },
    "papermill": {
     "duration": 0.049437,
     "end_time": "2021-05-26T13:31:27.878862",
     "exception": false,
     "start_time": "2021-05-26T13:31:27.829425",
     "status": "completed"
    },
    "tags": []
   },
   "outputs": [
    {
     "name": "stdout",
     "output_type": "stream",
     "text": [
      "              precision    recall  f1-score   support\n",
      "\n",
      "           0       0.85      0.79      0.82        72\n",
      "           1       0.82      0.88      0.85        80\n",
      "\n",
      "    accuracy                           0.84       152\n",
      "   macro avg       0.84      0.83      0.83       152\n",
      "weighted avg       0.84      0.84      0.84       152\n",
      "\n"
     ]
    }
   ],
   "source": [
    "print(classification_report(y_test, predictions))"
   ]
  },
  {
   "cell_type": "code",
   "execution_count": 14,
   "id": "sufficient-symphony",
   "metadata": {
    "execution": {
     "iopub.execute_input": "2021-05-26T13:31:27.960628Z",
     "iopub.status.busy": "2021-05-26T13:31:27.959633Z",
     "iopub.status.idle": "2021-05-26T13:31:27.962212Z",
     "shell.execute_reply": "2021-05-26T13:31:27.962678Z",
     "shell.execute_reply.started": "2021-05-26T12:45:25.330674Z"
    },
    "papermill": {
     "duration": 0.047344,
     "end_time": "2021-05-26T13:31:27.962864",
     "exception": false,
     "start_time": "2021-05-26T13:31:27.915520",
     "status": "completed"
    },
    "tags": []
   },
   "outputs": [],
   "source": [
    "conf_matrix = confusion_matrix(y_test, predictions)"
   ]
  },
  {
   "cell_type": "code",
   "execution_count": 15,
   "id": "suburban-harbor",
   "metadata": {
    "execution": {
     "iopub.execute_input": "2021-05-26T13:31:28.041511Z",
     "iopub.status.busy": "2021-05-26T13:31:28.040157Z",
     "iopub.status.idle": "2021-05-26T13:31:28.045774Z",
     "shell.execute_reply": "2021-05-26T13:31:28.045181Z",
     "shell.execute_reply.started": "2021-05-26T12:45:25.341874Z"
    },
    "papermill": {
     "duration": 0.046854,
     "end_time": "2021-05-26T13:31:28.045933",
     "exception": false,
     "start_time": "2021-05-26T13:31:27.999079",
     "status": "completed"
    },
    "tags": []
   },
   "outputs": [],
   "source": [
    "import matplotlib.pyplot as plt"
   ]
  },
  {
   "cell_type": "code",
   "execution_count": 16,
   "id": "limited-philadelphia",
   "metadata": {
    "execution": {
     "iopub.execute_input": "2021-05-26T13:31:28.125362Z",
     "iopub.status.busy": "2021-05-26T13:31:28.124660Z",
     "iopub.status.idle": "2021-05-26T13:31:28.128348Z",
     "shell.execute_reply": "2021-05-26T13:31:28.127825Z",
     "shell.execute_reply.started": "2021-05-26T12:45:25.358957Z"
    },
    "papermill": {
     "duration": 0.043917,
     "end_time": "2021-05-26T13:31:28.128492",
     "exception": false,
     "start_time": "2021-05-26T13:31:28.084575",
     "status": "completed"
    },
    "tags": []
   },
   "outputs": [],
   "source": [
    "# plot_confusion_matrix(model, X_test, y_test, cmap=plt.cm.Greens)"
   ]
  },
  {
   "cell_type": "code",
   "execution_count": 17,
   "id": "included-folks",
   "metadata": {
    "execution": {
     "iopub.execute_input": "2021-05-26T13:31:28.207762Z",
     "iopub.status.busy": "2021-05-26T13:31:28.207105Z",
     "iopub.status.idle": "2021-05-26T13:31:28.540485Z",
     "shell.execute_reply": "2021-05-26T13:31:28.539919Z",
     "shell.execute_reply.started": "2021-05-26T12:45:25.373471Z"
    },
    "papermill": {
     "duration": 0.375133,
     "end_time": "2021-05-26T13:31:28.540649",
     "exception": false,
     "start_time": "2021-05-26T13:31:28.165516",
     "status": "completed"
    },
    "tags": []
   },
   "outputs": [
    {
     "data": {
      "text/plain": [
       "Text(0.5, 1.0, 'Confusion Matrix for RandomForestClassifier Prediction')"
      ]
     },
     "execution_count": 17,
     "metadata": {},
     "output_type": "execute_result"
    },
    {
     "data": {
      "image/png": "[encoded data removed]",
      "text/plain": [
       "<Figure size 1008x504 with 2 Axes>"
      ]
     },
     "metadata": {
      "needs_background": "light"
     },
     "output_type": "display_data"
    }
   ],
   "source": [
    "import seaborn as sns\n",
    "\n",
    "plt.figure(figsize=(14,7))\n",
    "sns.heatmap(conf_matrix, annot=True, cbar=True, cmap='Blues')\n",
    "plt.xlabel(\"Predicted Label\")\n",
    "plt.ylabel(\"True Label\")\n",
    "plt.title(\"Confusion Matrix for RandomForestClassifier Prediction\")"
   ]
  },
  {
   "cell_type": "markdown",
   "id": "desirable-knitting",
   "metadata": {
    "papermill": {
     "duration": 0.036823,
     "end_time": "2021-05-26T13:31:28.615925",
     "exception": false,
     "start_time": "2021-05-26T13:31:28.579102",
     "status": "completed"
    },
    "tags": []
   },
   "source": [
    "## XGBoost"
   ]
  },
  {
   "cell_type": "code",
   "execution_count": 18,
   "id": "latest-fundamental",
   "metadata": {
    "execution": {
     "iopub.execute_input": "2021-05-26T13:31:28.695607Z",
     "iopub.status.busy": "2021-05-26T13:31:28.694889Z",
     "iopub.status.idle": "2021-05-26T13:31:28.778406Z",
     "shell.execute_reply": "2021-05-26T13:31:28.777842Z",
     "shell.execute_reply.started": "2021-05-26T12:45:25.645287Z"
    },
    "papermill": {
     "duration": 0.125774,
     "end_time": "2021-05-26T13:31:28.778579",
     "exception": false,
     "start_time": "2021-05-26T13:31:28.652805",
     "status": "completed"
    },
    "tags": []
   },
   "outputs": [],
   "source": [
    "from xgboost import XGBClassifier"
   ]
  },
  {
   "cell_type": "markdown",
   "id": "million-pound",
   "metadata": {
    "papermill": {
     "duration": 0.036714,
     "end_time": "2021-05-26T13:31:28.852088",
     "exception": false,
     "start_time": "2021-05-26T13:31:28.815374",
     "status": "completed"
    },
    "tags": []
   },
   "source": [
    "### Hyperparameter Optimization\n",
    "\n",
    "Help on how to do this for XGBoost found here: [Hyperparameter Optimization for Xgboost](https://www.youtube.com/watch?v=9HomdnM12o4)\n",
    "\n",
    "This notebook also helped: https://www.kaggle.com/tilii7/hyperparameter-grid-search-with-xgboost"
   ]
  },
  {
   "cell_type": "code",
   "execution_count": 19,
   "id": "chinese-vegetarian",
   "metadata": {
    "execution": {
     "iopub.execute_input": "2021-05-26T13:31:28.931220Z",
     "iopub.status.busy": "2021-05-26T13:31:28.930579Z",
     "iopub.status.idle": "2021-05-26T13:31:28.932832Z",
     "shell.execute_reply": "2021-05-26T13:31:28.933347Z",
     "shell.execute_reply.started": "2021-05-26T12:45:25.651479Z"
    },
    "papermill": {
     "duration": 0.044822,
     "end_time": "2021-05-26T13:31:28.933522",
     "exception": false,
     "start_time": "2021-05-26T13:31:28.888700",
     "status": "completed"
    },
    "tags": []
   },
   "outputs": [],
   "source": [
    "xgb_param_grid = {\n",
    " \"learning_rate\"    : [0.05, 0.10, 0.15, 0.20, 0.25, 0.30 ] ,\n",
    " \"max_depth\"        : [ 3, 4, 5, 6, 8, 10, 12, 15],\n",
    " \"min_child_weight\" : [ 1, 3, 5, 7 ],\n",
    " \"gamma\"            : [ 0.0, 0.1, 0.2 , 0.3, 0.4 ],\n",
    " \"colsample_bytree\" : [ 0.3, 0.4, 0.5 , 0.7 ]\n",
    "}"
   ]
  },
  {
   "cell_type": "code",
   "execution_count": 20,
   "id": "chicken-amplifier",
   "metadata": {
    "execution": {
     "iopub.execute_input": "2021-05-26T13:31:29.012232Z",
     "iopub.status.busy": "2021-05-26T13:31:29.011249Z",
     "iopub.status.idle": "2021-05-26T13:31:29.016569Z",
     "shell.execute_reply": "2021-05-26T13:31:29.017051Z",
     "shell.execute_reply.started": "2021-05-26T13:00:57.048684Z"
    },
    "papermill": {
     "duration": 0.046566,
     "end_time": "2021-05-26T13:31:29.017214",
     "exception": false,
     "start_time": "2021-05-26T13:31:28.970648",
     "status": "completed"
    },
    "tags": []
   },
   "outputs": [],
   "source": [
    "# xgb_model = XGBClassifier()\n",
    "xgb_model = XGBClassifier(learning_rate=0.02, \n",
    "                          n_estimators=600, \n",
    "                          objective='binary:logistic',\n",
    "                          use_label_encoder=False,\n",
    "#                           silent=True, \n",
    "                          nthread=1)\n",
    "# grid = GridSearchCV(xgb_model, xgb_param_grid, scoring='neg_mean_squared_log_error', cv=10)\n",
    "\n",
    "grid = GridSearchCV(xgb_model, xgb_param_grid, scoring='roc_auc', cv=10)\n",
    "\n",
    "randomized_search = RandomizedSearchCV(xgb_model, xgb_param_grid, scoring='roc_auc', cv=10)"
   ]
  },
  {
   "cell_type": "code",
   "execution_count": 21,
   "id": "sized-maria",
   "metadata": {
    "_kg_hide-input": false,
    "_kg_hide-output": true,
    "execution": {
     "iopub.execute_input": "2021-05-26T13:31:29.094096Z",
     "iopub.status.busy": "2021-05-26T13:31:29.093131Z",
     "iopub.status.idle": "2021-05-26T13:31:29.096684Z",
     "shell.execute_reply": "2021-05-26T13:31:29.097136Z",
     "shell.execute_reply.started": "2021-05-26T13:07:36.420933Z"
    },
    "papermill": {
     "duration": 0.043656,
     "end_time": "2021-05-26T13:31:29.097310",
     "exception": false,
     "start_time": "2021-05-26T13:31:29.053654",
     "status": "completed"
    },
    "tags": []
   },
   "outputs": [],
   "source": [
    "# %%time\n",
    "# grid.fit(X_train, y_train)\n",
    "\n",
    "\n",
    "# randomized_search.fit(X_train, y_train)"
   ]
  },
  {
   "cell_type": "code",
   "execution_count": 22,
   "id": "bottom-building",
   "metadata": {
    "execution": {
     "iopub.execute_input": "2021-05-26T13:31:29.175285Z",
     "iopub.status.busy": "2021-05-26T13:31:29.174355Z",
     "iopub.status.idle": "2021-05-26T13:31:29.178775Z",
     "shell.execute_reply": "2021-05-26T13:31:29.178192Z",
     "shell.execute_reply.started": "2021-05-26T13:02:56.977205Z"
    },
    "papermill": {
     "duration": 0.044351,
     "end_time": "2021-05-26T13:31:29.178914",
     "exception": false,
     "start_time": "2021-05-26T13:31:29.134563",
     "status": "completed"
    },
    "tags": []
   },
   "outputs": [],
   "source": [
    "# grid.best_params_\n",
    "# randomized_search.best_params_"
   ]
  },
  {
   "cell_type": "markdown",
   "id": "plastic-employment",
   "metadata": {
    "papermill": {
     "duration": 0.037219,
     "end_time": "2021-05-26T13:31:29.254858",
     "exception": false,
     "start_time": "2021-05-26T13:31:29.217639",
     "status": "completed"
    },
    "tags": []
   },
   "source": [
    "**End of hyperparameter optimization for XGBoost**\n",
    "\n",
    "Used RandomizedSearchCV, took 44s\n",
    "note: grid search takes much longer, an hour or more\n",
    "\n",
    "using scoring='roc_auc'\n",
    "*Best Parameters:* {'min_child_weight': 1,\n",
    " 'max_depth': 15,\n",
    " 'learning_rate': 0.1,\n",
    " 'gamma': 0.0,\n",
    " 'colsample_bytree': 0.5}\n",
    " \n",
    " \n",
    " *Best Paramters 2* (using scoring='neg_mean_squared_log_error' ): {'min_child_weight': 1,\n",
    " 'max_depth': 6,\n",
    " 'learning_rate': 0.25,\n",
    " 'gamma': 0.0,\n",
    " 'colsample_bytree': 0.4}\n",
    "\n",
    "Now build model with best parameters."
   ]
  },
  {
   "cell_type": "code",
   "execution_count": 23,
   "id": "proud-anthropology",
   "metadata": {
    "execution": {
     "iopub.execute_input": "2021-05-26T13:31:29.336466Z",
     "iopub.status.busy": "2021-05-26T13:31:29.335458Z",
     "iopub.status.idle": "2021-05-26T13:31:29.797171Z",
     "shell.execute_reply": "2021-05-26T13:31:29.796668Z",
     "shell.execute_reply.started": "2021-05-26T13:08:04.594116Z"
    },
    "papermill": {
     "duration": 0.5044,
     "end_time": "2021-05-26T13:31:29.797336",
     "exception": false,
     "start_time": "2021-05-26T13:31:29.292936",
     "status": "completed"
    },
    "tags": []
   },
   "outputs": [
    {
     "name": "stdout",
     "output_type": "stream",
     "text": [
      "[13:31:29] WARNING: ../src/learner.cc:1095: Starting in XGBoost 1.3.0, the default evaluation metric used with the objective 'binary:logistic' was changed from 'error' to 'logloss'. Explicitly set eval_metric if you'd like to restore the old behavior.\n"
     ]
    },
    {
     "data": {
      "text/plain": [
       "XGBClassifier(base_score=0.5, booster='gbtree', colsample_bylevel=1,\n",
       "              colsample_bynode=1, colsample_bytree=0.5, gamma=0.0, gpu_id=-1,\n",
       "              importance_type='gain', interaction_constraints='',\n",
       "              learning_rate=0.1, max_delta_step=0, max_depth=15,\n",
       "              min_child_weight=1, missing=nan, monotone_constraints='()',\n",
       "              n_estimators=600, n_jobs=4, num_parallel_tree=1, random_state=0,\n",
       "              reg_alpha=0, reg_lambda=1, scale_pos_weight=1, subsample=1,\n",
       "              tree_method='exact', use_label_encoder=False,\n",
       "              validate_parameters=1, verbosity=None)"
      ]
     },
     "execution_count": 23,
     "metadata": {},
     "output_type": "execute_result"
    }
   ],
   "source": [
    "xgb_model = XGBClassifier(max_depth= 15,\n",
    "                          learning_rate=0.1, \n",
    "                          min_child_weight=1, \n",
    "                          gamma=0.0, \n",
    "                          colsample_bytree=0.5, \n",
    "                          n_estimators=600, \n",
    "                          objective='binary:logistic',\n",
    "                          use_label_encoder=False)#, \n",
    "#                           nthread=1)\n",
    "\n",
    "xgb_model.fit(X_train, y_train)"
   ]
  },
  {
   "cell_type": "code",
   "execution_count": 24,
   "id": "sweet-inflation",
   "metadata": {
    "execution": {
     "iopub.execute_input": "2021-05-26T13:31:29.878545Z",
     "iopub.status.busy": "2021-05-26T13:31:29.877685Z",
     "iopub.status.idle": "2021-05-26T13:31:29.887691Z",
     "shell.execute_reply": "2021-05-26T13:31:29.888247Z",
     "shell.execute_reply.started": "2021-05-26T13:08:05.082803Z"
    },
    "papermill": {
     "duration": 0.053975,
     "end_time": "2021-05-26T13:31:29.888458",
     "exception": false,
     "start_time": "2021-05-26T13:31:29.834483",
     "status": "completed"
    },
    "tags": []
   },
   "outputs": [
    {
     "name": "stderr",
     "output_type": "stream",
     "text": [
      "/opt/conda/lib/python3.7/site-packages/xgboost/data.py:114: UserWarning: Use subset (sliced data) of np.ndarray is not recommended because it will generate extra copies and increase memory consumption\n",
      "  \"because it will generate extra copies and increase \" +\n"
     ]
    }
   ],
   "source": [
    "xgb_predictions = xgb_model.predict(X_test)"
   ]
  },
  {
   "cell_type": "code",
   "execution_count": 25,
   "id": "promising-visitor",
   "metadata": {
    "execution": {
     "iopub.execute_input": "2021-05-26T13:31:29.971972Z",
     "iopub.status.busy": "2021-05-26T13:31:29.971292Z",
     "iopub.status.idle": "2021-05-26T13:31:29.981274Z",
     "shell.execute_reply": "2021-05-26T13:31:29.980713Z",
     "shell.execute_reply.started": "2021-05-26T13:08:05.096266Z"
    },
    "papermill": {
     "duration": 0.052319,
     "end_time": "2021-05-26T13:31:29.981432",
     "exception": false,
     "start_time": "2021-05-26T13:31:29.929113",
     "status": "completed"
    },
    "tags": []
   },
   "outputs": [
    {
     "name": "stdout",
     "output_type": "stream",
     "text": [
      "              precision    recall  f1-score   support\n",
      "\n",
      "           0       0.84      0.75      0.79        72\n",
      "           1       0.80      0.88      0.83        80\n",
      "\n",
      "    accuracy                           0.82       152\n",
      "   macro avg       0.82      0.81      0.81       152\n",
      "weighted avg       0.82      0.82      0.81       152\n",
      "\n"
     ]
    }
   ],
   "source": [
    "print(classification_report(y_test, xgb_predictions))"
   ]
  },
  {
   "cell_type": "code",
   "execution_count": 26,
   "id": "hundred-logging",
   "metadata": {
    "execution": {
     "iopub.execute_input": "2021-05-26T13:31:30.064678Z",
     "iopub.status.busy": "2021-05-26T13:31:30.063872Z",
     "iopub.status.idle": "2021-05-26T13:31:30.068182Z",
     "shell.execute_reply": "2021-05-26T13:31:30.067657Z",
     "shell.execute_reply.started": "2021-05-26T13:08:05.118934Z"
    },
    "papermill": {
     "duration": 0.047872,
     "end_time": "2021-05-26T13:31:30.068410",
     "exception": false,
     "start_time": "2021-05-26T13:31:30.020538",
     "status": "completed"
    },
    "tags": []
   },
   "outputs": [],
   "source": [
    "conf_matrix = confusion_matrix(y_test, xgb_predictions)"
   ]
  },
  {
   "cell_type": "code",
   "execution_count": 27,
   "id": "moral-subdivision",
   "metadata": {
    "execution": {
     "iopub.execute_input": "2021-05-26T13:31:30.172863Z",
     "iopub.status.busy": "2021-05-26T13:31:30.170911Z",
     "iopub.status.idle": "2021-05-26T13:31:30.475141Z",
     "shell.execute_reply": "2021-05-26T13:31:30.475674Z",
     "shell.execute_reply.started": "2021-05-26T13:08:05.126601Z"
    },
    "papermill": {
     "duration": 0.367839,
     "end_time": "2021-05-26T13:31:30.475847",
     "exception": false,
     "start_time": "2021-05-26T13:31:30.108008",
     "status": "completed"
    },
    "tags": []
   },
   "outputs": [
    {
     "data": {
      "text/plain": [
       "Text(0.5, 1.0, 'Confusion Matrix for XGBoost Classifier Prediction')"
      ]
     },
     "execution_count": 27,
     "metadata": {},
     "output_type": "execute_result"
    },
    {
     "data": {
      "image/png": "[encoded data removed]",
      "text/plain": [
       "<Figure size 1008x504 with 2 Axes>"
      ]
     },
     "metadata": {
      "needs_background": "light"
     },
     "output_type": "display_data"
    }
   ],
   "source": [
    "plt.figure(figsize=(14,7))\n",
    "sns.heatmap(conf_matrix, annot=True, cbar=True, cmap='Blues')\n",
    "plt.xlabel(\"Predicted Label\")\n",
    "plt.ylabel(\"True Label\")\n",
    "plt.title(\"Confusion Matrix for XGBoost Classifier Prediction\")"
   ]
  },
  {
   "cell_type": "markdown",
   "id": "surprising-cinema",
   "metadata": {
    "papermill": {
     "duration": 0.038914,
     "end_time": "2021-05-26T13:31:30.554371",
     "exception": false,
     "start_time": "2021-05-26T13:31:30.515457",
     "status": "completed"
    },
    "tags": []
   },
   "source": [
    "## Adaboost"
   ]
  },
  {
   "cell_type": "code",
   "execution_count": 28,
   "id": "alternate-cruise",
   "metadata": {
    "execution": {
     "iopub.execute_input": "2021-05-26T13:31:30.638280Z",
     "iopub.status.busy": "2021-05-26T13:31:30.637241Z",
     "iopub.status.idle": "2021-05-26T13:31:30.639623Z",
     "shell.execute_reply": "2021-05-26T13:31:30.640106Z",
     "shell.execute_reply.started": "2021-05-26T13:17:19.900318Z"
    },
    "papermill": {
     "duration": 0.04641,
     "end_time": "2021-05-26T13:31:30.640294",
     "exception": false,
     "start_time": "2021-05-26T13:31:30.593884",
     "status": "completed"
    },
    "tags": []
   },
   "outputs": [],
   "source": [
    "from sklearn.ensemble import AdaBoostClassifier"
   ]
  },
  {
   "cell_type": "markdown",
   "id": "acoustic-workstation",
   "metadata": {
    "papermill": {
     "duration": 0.038911,
     "end_time": "2021-05-26T13:31:30.718405",
     "exception": false,
     "start_time": "2021-05-26T13:31:30.679494",
     "status": "completed"
    },
    "tags": []
   },
   "source": [
    "#### Hyperparameter Optimization for Adaboost"
   ]
  },
  {
   "cell_type": "code",
   "execution_count": 29,
   "id": "southern-memorial",
   "metadata": {
    "execution": {
     "iopub.execute_input": "2021-05-26T13:31:30.800757Z",
     "iopub.status.busy": "2021-05-26T13:31:30.799774Z",
     "iopub.status.idle": "2021-05-26T13:31:30.805669Z",
     "shell.execute_reply": "2021-05-26T13:31:30.805126Z",
     "shell.execute_reply.started": "2021-05-26T13:17:19.907993Z"
    },
    "papermill": {
     "duration": 0.048001,
     "end_time": "2021-05-26T13:31:30.805815",
     "exception": false,
     "start_time": "2021-05-26T13:31:30.757814",
     "status": "completed"
    },
    "tags": []
   },
   "outputs": [],
   "source": [
    "adaboost_param_grid = {\n",
    " \"learning_rate\"    : [0.0001, 0.001, 0.01, 0.1, 1.0] ,\n",
    " \"n_estimators\"        : [10, 50, 100, 500],\n",
    "}"
   ]
  },
  {
   "cell_type": "code",
   "execution_count": 30,
   "id": "complete-costs",
   "metadata": {
    "execution": {
     "iopub.execute_input": "2021-05-26T13:31:30.890764Z",
     "iopub.status.busy": "2021-05-26T13:31:30.890088Z",
     "iopub.status.idle": "2021-05-26T13:31:30.892256Z",
     "shell.execute_reply": "2021-05-26T13:31:30.892727Z",
     "shell.execute_reply.started": "2021-05-26T13:17:19.922937Z"
    },
    "papermill": {
     "duration": 0.047274,
     "end_time": "2021-05-26T13:31:30.892920",
     "exception": false,
     "start_time": "2021-05-26T13:31:30.845646",
     "status": "completed"
    },
    "tags": []
   },
   "outputs": [],
   "source": [
    "adaboost_model = AdaBoostClassifier()\n",
    "ada_grid = GridSearchCV(adaboost_model, adaboost_param_grid, scoring='neg_mean_squared_log_error', cv=10)"
   ]
  },
  {
   "cell_type": "code",
   "execution_count": 31,
   "id": "apart-separation",
   "metadata": {
    "execution": {
     "iopub.execute_input": "2021-05-26T13:31:30.976019Z",
     "iopub.status.busy": "2021-05-26T13:31:30.975345Z",
     "iopub.status.idle": "2021-05-26T13:31:30.977144Z",
     "shell.execute_reply": "2021-05-26T13:31:30.977691Z",
     "shell.execute_reply.started": "2021-05-26T13:17:19.936394Z"
    },
    "papermill": {
     "duration": 0.045314,
     "end_time": "2021-05-26T13:31:30.977872",
     "exception": false,
     "start_time": "2021-05-26T13:31:30.932558",
     "status": "completed"
    },
    "tags": []
   },
   "outputs": [],
   "source": [
    "# %%time\n",
    "# ada_grid.fit(X_train, y_train)"
   ]
  },
  {
   "cell_type": "code",
   "execution_count": 32,
   "id": "distinguished-klein",
   "metadata": {
    "execution": {
     "iopub.execute_input": "2021-05-26T13:31:31.060652Z",
     "iopub.status.busy": "2021-05-26T13:31:31.059981Z",
     "iopub.status.idle": "2021-05-26T13:31:31.063104Z",
     "shell.execute_reply": "2021-05-26T13:31:31.063604Z",
     "shell.execute_reply.started": "2021-05-26T13:18:54.417268Z"
    },
    "papermill": {
     "duration": 0.0456,
     "end_time": "2021-05-26T13:31:31.063787",
     "exception": false,
     "start_time": "2021-05-26T13:31:31.018187",
     "status": "completed"
    },
    "tags": []
   },
   "outputs": [],
   "source": [
    "# ada_grid.best_params_"
   ]
  },
  {
   "cell_type": "markdown",
   "id": "informed-module",
   "metadata": {
    "papermill": {
     "duration": 0.03918,
     "end_time": "2021-05-26T13:31:31.143457",
     "exception": false,
     "start_time": "2021-05-26T13:31:31.104277",
     "status": "completed"
    },
    "tags": []
   },
   "source": [
    "**End of hyperparameter optimization for AdaBoost**\n",
    "\n",
    "grid search took 1min 34s\n",
    "\n",
    "note: grid search takes much longer, an hour or more\n",
    "\n",
    "*Best Parameters:* {'learning_rate': 0.1, 'n_estimators': 50}\n",
    "\n",
    "Now build model with best parameters."
   ]
  },
  {
   "cell_type": "code",
   "execution_count": 33,
   "id": "pleasant-transition",
   "metadata": {
    "execution": {
     "iopub.execute_input": "2021-05-26T13:31:31.226241Z",
     "iopub.status.busy": "2021-05-26T13:31:31.225617Z",
     "iopub.status.idle": "2021-05-26T13:31:31.373605Z",
     "shell.execute_reply": "2021-05-26T13:31:31.374069Z",
     "shell.execute_reply.started": "2021-05-26T13:26:02.010727Z"
    },
    "papermill": {
     "duration": 0.191609,
     "end_time": "2021-05-26T13:31:31.374260",
     "exception": false,
     "start_time": "2021-05-26T13:31:31.182651",
     "status": "completed"
    },
    "tags": []
   },
   "outputs": [
    {
     "data": {
      "text/plain": [
       "AdaBoostClassifier(learning_rate=0.1)"
      ]
     },
     "execution_count": 33,
     "metadata": {},
     "output_type": "execute_result"
    }
   ],
   "source": [
    "adaboost_model = AdaBoostClassifier(learning_rate=0.1, n_estimators=50)\n",
    "\n",
    "adaboost_model.fit(X_train, y_train)"
   ]
  },
  {
   "cell_type": "code",
   "execution_count": 34,
   "id": "fluid-exchange",
   "metadata": {
    "execution": {
     "iopub.execute_input": "2021-05-26T13:31:31.457931Z",
     "iopub.status.busy": "2021-05-26T13:31:31.457221Z",
     "iopub.status.idle": "2021-05-26T13:31:31.473987Z",
     "shell.execute_reply": "2021-05-26T13:31:31.474532Z",
     "shell.execute_reply.started": "2021-05-26T13:26:02.171117Z"
    },
    "papermill": {
     "duration": 0.060609,
     "end_time": "2021-05-26T13:31:31.474728",
     "exception": false,
     "start_time": "2021-05-26T13:31:31.414119",
     "status": "completed"
    },
    "tags": []
   },
   "outputs": [],
   "source": [
    "adaboost_predictions = adaboost_model.predict(X_test)"
   ]
  },
  {
   "cell_type": "code",
   "execution_count": 35,
   "id": "amateur-heaven",
   "metadata": {
    "execution": {
     "iopub.execute_input": "2021-05-26T13:31:31.560437Z",
     "iopub.status.busy": "2021-05-26T13:31:31.559697Z",
     "iopub.status.idle": "2021-05-26T13:31:31.569987Z",
     "shell.execute_reply": "2021-05-26T13:31:31.570819Z",
     "shell.execute_reply.started": "2021-05-26T13:26:02.191749Z"
    },
    "papermill": {
     "duration": 0.055444,
     "end_time": "2021-05-26T13:31:31.571015",
     "exception": false,
     "start_time": "2021-05-26T13:31:31.515571",
     "status": "completed"
    },
    "tags": []
   },
   "outputs": [
    {
     "name": "stdout",
     "output_type": "stream",
     "text": [
      "              precision    recall  f1-score   support\n",
      "\n",
      "           0       0.79      0.72      0.75        72\n",
      "           1       0.77      0.82      0.80        80\n",
      "\n",
      "    accuracy                           0.78       152\n",
      "   macro avg       0.78      0.77      0.77       152\n",
      "weighted avg       0.78      0.78      0.78       152\n",
      "\n"
     ]
    }
   ],
   "source": [
    "print(classification_report(y_test, adaboost_predictions))"
   ]
  },
  {
   "cell_type": "code",
   "execution_count": 36,
   "id": "explicit-stranger",
   "metadata": {
    "execution": {
     "iopub.execute_input": "2021-05-26T13:31:31.655208Z",
     "iopub.status.busy": "2021-05-26T13:31:31.654575Z",
     "iopub.status.idle": "2021-05-26T13:31:31.659903Z",
     "shell.execute_reply": "2021-05-26T13:31:31.660523Z",
     "shell.execute_reply.started": "2021-05-26T13:26:02.206308Z"
    },
    "papermill": {
     "duration": 0.049194,
     "end_time": "2021-05-26T13:31:31.660703",
     "exception": false,
     "start_time": "2021-05-26T13:31:31.611509",
     "status": "completed"
    },
    "tags": []
   },
   "outputs": [],
   "source": [
    "conf_matrix = confusion_matrix(y_test, adaboost_predictions)"
   ]
  },
  {
   "cell_type": "code",
   "execution_count": 37,
   "id": "mathematical-baseline",
   "metadata": {
    "execution": {
     "iopub.execute_input": "2021-05-26T13:31:31.744607Z",
     "iopub.status.busy": "2021-05-26T13:31:31.743945Z",
     "iopub.status.idle": "2021-05-26T13:31:31.983137Z",
     "shell.execute_reply": "2021-05-26T13:31:31.982628Z",
     "shell.execute_reply.started": "2021-05-26T13:26:02.216042Z"
    },
    "papermill": {
     "duration": 0.282281,
     "end_time": "2021-05-26T13:31:31.983297",
     "exception": false,
     "start_time": "2021-05-26T13:31:31.701016",
     "status": "completed"
    },
    "tags": []
   },
   "outputs": [
    {
     "data": {
      "text/plain": [
       "Text(0.5, 1.0, 'Confusion Matrix for AdaBoost Classifier Prediction')"
      ]
     },
     "execution_count": 37,
     "metadata": {},
     "output_type": "execute_result"
    },
    {
     "data": {
      "image/png": "[encoded data removed]",
      "text/plain": [
       "<Figure size 1008x504 with 2 Axes>"
      ]
     },
     "metadata": {
      "needs_background": "light"
     },
     "output_type": "display_data"
    }
   ],
   "source": [
    "plt.figure(figsize=(14,7))\n",
    "sns.heatmap(conf_matrix, annot=True, cbar=True, cmap='Blues')\n",
    "plt.xlabel(\"Predicted Label\")\n",
    "plt.ylabel(\"True Label\")\n",
    "plt.title(\"Confusion Matrix for AdaBoost Classifier Prediction\")"
   ]
  }
 ],
 "metadata": {
  "kernelspec": {
   "display_name": "Python 3",
   "language": "python",
   "name": "python3"
  },
  "language_info": {
   "codemirror_mode": {
    "name": "ipython",
    "version": 3
   },
   "file_extension": ".py",
   "mimetype": "text/x-python",
   "name": "python",
   "nbconvert_exporter": "python",
   "pygments_lexer": "ipython3",
   "version": "3.7.10"
  },
  "papermill": {
   "default_parameters": {},
   "duration": 16.586071,
   "end_time": "2021-05-26T13:31:32.837202",
   "environment_variables": {},
   "exception": null,
   "input_path": "__notebook__.ipynb",
   "output_path": "__notebook__.ipynb",
   "parameters": {},
   "start_time": "2021-05-26T13:31:16.251131",
   "version": "2.3.3"
  }
 },
 "nbformat": 4,
 "nbformat_minor": 5
}
